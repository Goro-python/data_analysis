{
 "cells": [
  {
   "cell_type": "code",
   "execution_count": null,
   "metadata": {},
   "outputs": [],
   "source": [
    "#Data Analysis of McAffe Data''\n",
    "#I shall proceed with some assumptions and followwing steps before making any conclusion\"\n",
    "# am buidling a pipiline such that work can be deployed later on for real time prediction\n",
    "\n",
    "a. Data Analysis \n",
    "b. Feature Engineering \n",
    "c. Feature Selection \n",
    "d. Model building "
   ]
  }
 ],
 "metadata": {
  "kernelspec": {
   "display_name": "Python 3",
   "language": "python",
   "name": "python3"
  },
  "language_info": {
   "codemirror_mode": {
    "name": "ipython",
    "version": 3
   },
   "file_extension": ".py",
   "mimetype": "text/x-python",
   "name": "python",
   "nbconvert_exporter": "python",
   "pygments_lexer": "ipython3",
   "version": "3.7.3"
  }
 },
 "nbformat": 4,
 "nbformat_minor": 2
}
